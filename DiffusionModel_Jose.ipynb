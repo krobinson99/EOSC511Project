{
 "cells": [
  {
   "cell_type": "code",
   "execution_count": 1,
   "id": "5a17feaf",
   "metadata": {},
   "outputs": [],
   "source": [
    "%matplotlib qt\n",
    "import numpy as np\n",
    "import matplotlib.pyplot as plt\n",
    "import glacier\n",
    "import glacier_v3\n",
    "import cmocean\n",
    "import importlib\n",
    "from matplotlib import pyplot as plt, animation, rc\n",
    "from IPython.display import Image\n",
    "rc('animation', html='html5')\n",
    "from scipy.sparse import spdiags"
   ]
  },
  {
   "cell_type": "code",
   "execution_count": 2,
   "id": "40861ff6",
   "metadata": {},
   "outputs": [],
   "source": [
    "importlib.reload(glacier_v3)\n",
    "ngridx=50\n",
    "ngridz=20\n",
    "D=200 # m\n",
    "L=2e4 # m\n",
    "dt= 60 \n",
    "T= 1*1440*dt# 1e6 9days\n",
    "alpha=0.4/86400\n",
    "ML=20\n",
    "zz=0 # dont use values on the second grid cell (unstable solution)\n",
    "C,S,u,w=glacier_v3.glacier(ngridx,ngridz,dt,zz,T,ML,alpha,motion = True,steady=False)"
   ]
  },
  {
   "cell_type": "code",
   "execution_count": 3,
   "id": "8bd218d6",
   "metadata": {},
   "outputs": [],
   "source": [
    "# Plot Diffusion only:\n",
    "cmap=cmocean.cm.haline\n",
    "fig, axs=plt.subplots(4,1,figsize=(10,10))\n",
    "z = np.linspace(0,D,ngridz+1)\n",
    "x = np.linspace(0,L/1e3,ngridx+1)\n",
    "X,Z=np.meshgrid(x,z)\n",
    "\n",
    "c1=axs[0].contourf(X,-Z,C[-1,:,:].T,cmap=cmap,levels=np.arange(3,15,1))\n",
    "cb1=fig.colorbar(c1,ax=axs[0],pad=0.01)\n",
    "cb1.ax.get_yaxis().labelpad = 10\n",
    "cb1.set_label('Methane nM', rotation=270)\n",
    "c2=axs[1].contourf(X,-Z,S[-1,:,:].T,cmap=cmap,levels=np.arange(0,35,1))\n",
    "cb2=fig.colorbar(c2,ax=axs[1],pad=0.01)\n",
    "cb2.ax.get_yaxis().labelpad = 15\n",
    "cb2.set_label('Salinity (PSU)', rotation=270)\n",
    "\n",
    "cmapu=cmocean.cm.balance\n",
    "zu = np.linspace(0,D,ngridz)\n",
    "xu = np.linspace(0,L/1e3,ngridx)\n",
    "Xu,Zu=np.meshgrid(xu,zu)\n",
    "\n",
    "c3=axs[2].contourf(Xu,-Zu,u[-1,:,:].T,cmap=cmapu,levels=np.arange(-1e-1,1e-1,1e-2))\n",
    "cb3=fig.colorbar(c3,ax=axs[2],pad=0.01)\n",
    "cb3.ax.get_yaxis().labelpad = 15 \n",
    "cb3.set_label('Velocity u (m/s)', rotation=270)\n",
    "\n",
    "c4=axs[3].contourf(Xu,-Zu,w[-1,:,:].T,cmap=cmapu,levels=np.arange(-6e-4,6e-4,1e-5))\n",
    "cb4=fig.colorbar(c4,ax=axs[3],pad=0.01)\n",
    "cb4.ax.get_yaxis().labelpad = 15\n",
    "cb4.set_label('Velocity w (m/s)', rotation=270)\n",
    "\n",
    "fig.suptitle('Diffusion and Advection',y=0.95,x=0.45)\n",
    "fig.supxlabel('Distance from glacier (km)',x=0.45)\n",
    "fig.supylabel('Depth (m)',x=0.05)\n",
    "plt.savefig('AdvDiff.pdf')"
   ]
  },
  {
   "cell_type": "code",
   "execution_count": 4,
   "id": "4c46926d",
   "metadata": {},
   "outputs": [
    {
     "data": {
      "text/plain": [
       "[<matplotlib.lines.Line2D at 0x173598ac0>]"
      ]
     },
     "execution_count": 4,
     "metadata": {},
     "output_type": "execute_result"
    }
   ],
   "source": [
    "# Extract profiles for methane concentration with sinks, at a distance from the mouth of the glacier:\n",
    "dz=D/(ngridz-1)\n",
    "dx = L/(ngridx-1)\n",
    "plt.figure(figsize=(5,10))\n",
    "plt.plot(C[-1,7,:],-z)\n",
    "#plt.axhline(y=-int(zz/dz)*dz)"
   ]
  },
  {
   "cell_type": "code",
   "execution_count": 5,
   "id": "9aef622f",
   "metadata": {},
   "outputs": [],
   "source": [
    "mins,hs,ds=0,0,0\n",
    "minutes,hours,days=[mins],[hs],[ds]\n",
    "for t in range(int(T/60)):\n",
    "    if mins < 59:\n",
    "        mins+=1\n",
    "        minutes.append(mins)\n",
    "        hours.append(hs)\n",
    "        days.append(ds)\n",
    "    else:\n",
    "        mins = 0\n",
    "        minutes.append(mins)\n",
    "        if hs< 23:\n",
    "            hs+=1\n",
    "            hours.append(hs)\n",
    "            days.append(ds)\n",
    "        else:\n",
    "            hs = 0\n",
    "            hours.append(hs)\n",
    "            ds +=1\n",
    "            days.append(ds)\n",
    "time ={'m':minutes,'h':hours,'d':days}\n"
   ]
  },
  {
   "cell_type": "code",
   "execution_count": 6,
   "id": "68ff6140",
   "metadata": {},
   "outputs": [],
   "source": [
    "fig = plt.figure(figsize=(10,10))\n",
    "def animate(frames):\n",
    "    if frames > T:\n",
    "        factor=int(frames/T)\n",
    "        frames=frames-(T*factor)\n",
    "        \n",
    "    dia = time['d'][int(frames)]\n",
    "    hora = time['h'][int(frames)]\n",
    "    minuto = time['m'][int(frames)]\n",
    "    plt.clf()\n",
    "    ax1 = fig.add_subplot(411)\n",
    "    ax2 = fig.add_subplot(412)\n",
    "    ax3 = fig.add_subplot(413)\n",
    "    ax4 = fig.add_subplot(414)\n",
    "    c1 = ax1.contourf(X,-Z,C[int(frames),:,:].T,cmap=cmap,levels=np.arange(3,15,1))\n",
    "    cb1=fig.colorbar(c1,ax=ax1,pad=0.01)\n",
    "    cb1.ax.get_yaxis().labelpad = 10\n",
    "    ax1.set_title(f'{dia} days {hora}:{minuto}')\n",
    "    cb1.set_label('Methane nM', rotation=270)\n",
    "    c2 = ax2.contourf(X,-Z,S[int(frames),:,:].T,cmap=cmap,levels=np.arange(0,35,1))\n",
    "    cb2=fig.colorbar(c2,ax=ax2,pad=0.01)\n",
    "    cb2.ax.get_yaxis().labelpad = 15\n",
    "    cb2.set_label('Salinity (PSU)', rotation=270)\n",
    "    c3=ax3.contourf(Xu,-Zu,u[int(frames),:,:].T,cmap=cmapu,levels=np.arange(-2e-1,2e-1,1e-2))\n",
    "    cb3=fig.colorbar(c3,ax=ax3,pad=0.01)\n",
    "    cb3.ax.get_yaxis().labelpad = 15 \n",
    "    cb3.set_label('Velocity u (m/s)', rotation=270)\n",
    "    c4=ax4.contourf(Xu,-Zu,w[int(frames),:,:].T,cmap=cmapu,levels=np.arange(-1.5e-3,1.5e-3,1e-4))\n",
    "    cb4=fig.colorbar(c4,ax=ax4,pad=0.01)\n",
    "    cb4.ax.get_yaxis().labelpad = 15\n",
    "    cb4.set_label('Velocity w (m/s)', rotation=270)\n",
    "    fig.suptitle(titulo,y=0.95,x=0.45)\n",
    "    fig.supxlabel('Distance from glacier (km)',x=0.45)\n",
    "    fig.supylabel('Depth (m)',x=0.05)\n",
    "    \n",
    "    return fig\n",
    "titulo=str('Glacier advection +diffusion')\n",
    "anim = animation.FuncAnimation(fig, animate, frames=np.arange(0,int(T/dt)-1,120))\n",
    "f = r\"/Users/jvalenti/Desktop/diff.mp4\" \n",
    "FFwriter = animation.FFMpegWriter()\n",
    "anim.save(f, writer = FFwriter)"
   ]
  },
  {
   "cell_type": "code",
   "execution_count": 7,
   "id": "29fd94b2",
   "metadata": {},
   "outputs": [],
   "source": [
    "#with open(f,'rb') as anim:\n",
    "#    display(Image(anim.read()))"
   ]
  }
 ],
 "metadata": {
  "kernelspec": {
   "display_name": "Python 3 (ipykernel)",
   "language": "python",
   "name": "python3"
  },
  "language_info": {
   "codemirror_mode": {
    "name": "ipython",
    "version": 3
   },
   "file_extension": ".py",
   "mimetype": "text/x-python",
   "name": "python",
   "nbconvert_exporter": "python",
   "pygments_lexer": "ipython3",
   "version": "3.9.7"
  }
 },
 "nbformat": 4,
 "nbformat_minor": 5
}
