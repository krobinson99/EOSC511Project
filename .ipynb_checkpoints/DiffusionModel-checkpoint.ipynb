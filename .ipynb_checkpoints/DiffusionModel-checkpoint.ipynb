{
 "cells": [
  {
   "cell_type": "code",
   "execution_count": 1,
<<<<<<< HEAD
   "id": "1d458c3f",
   "metadata": {},
   "outputs": [],
   "source": [
    "# blank notebook to put our code in"
   ]
=======
   "metadata": {},
   "outputs": [],
   "source": [
    "%matplotlib inline\n",
    "import numpy as np\n",
    "import matplotlib.pyplot as plt\n",
    "from glacier import glacier\n",
    "import cmocean\n",
    "\n",
    "cmap=cmocean.cm.haline"
   ]
  },
  {
   "cell_type": "code",
   "execution_count": null,
   "metadata": {},
   "outputs": [],
   "source": [
    "ngridx=50\n",
    "ngridz=20\n",
    "D=200\n",
    "L=2e4\n",
    "dt= 2e2\n",
    "T= 1e6\n",
    "zz=-100\n",
    "C,S=glacier(ngridx,ngridz,dt,zz,T)"
   ]
  },
  {
   "cell_type": "code",
   "execution_count": null,
   "metadata": {},
   "outputs": [],
   "source": [
    "z = np.linspace(0,D,ngridz)\n",
    "x = np.linspace(0,L,ngridx)\n",
    "X,Z=np.meshgrid(x,z)\n",
    "plt.contourf(X,-Z,C[-1,:,:].T,cmap=cmap)\n",
    "plt.colorbar()\n",
    "plt.contourf(X,-Z,S[-1,:,:].T,cmap=cmap)\n",
    "plt.colorbar()"
   ]
  },
  {
   "cell_type": "code",
   "execution_count": null,
   "metadata": {},
   "outputs": [],
   "source": []
>>>>>>> 371ab9f00859ece567d8aa638ec47c56b5e53745
  }
 ],
 "metadata": {
  "kernelspec": {
<<<<<<< HEAD
   "display_name": "Python 3 (ipykernel)",
=======
   "display_name": "Python 3",
>>>>>>> 371ab9f00859ece567d8aa638ec47c56b5e53745
   "language": "python",
   "name": "python3"
  },
  "language_info": {
   "codemirror_mode": {
    "name": "ipython",
    "version": 3
   },
   "file_extension": ".py",
   "mimetype": "text/x-python",
   "name": "python",
   "nbconvert_exporter": "python",
   "pygments_lexer": "ipython3",
<<<<<<< HEAD
   "version": "3.10.1"
=======
   "version": "3.7.4"
>>>>>>> 371ab9f00859ece567d8aa638ec47c56b5e53745
  }
 },
 "nbformat": 4,
 "nbformat_minor": 5
}
