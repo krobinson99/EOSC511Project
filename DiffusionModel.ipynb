{
 "cells": [
  {
   "cell_type": "code",
   "execution_count": 73,
   "id": "00cd79e0",
   "metadata": {},
   "outputs": [],
   "source": [
    "%matplotlib inline\n",
    "import numpy as np\n",
    "import matplotlib.pyplot as plt\n",
    "import glacier\n",
    "import cmocean\n",
    "import importlib"
   ]
  },
  {
   "cell_type": "code",
   "execution_count": 74,
   "id": "444e83f6",
   "metadata": {},
   "outputs": [],
   "source": [
    "importlib.reload(glacier)\n",
    "ngridx=50\n",
    "ngridz=20\n",
    "D=200 # m\n",
    "L=2e4 # m\n",
    "dt= 2e2 # \n",
    "T= 1e6\n",
    "zz=0\n",
    "C,S=glacier.glacier(ngridx,ngridz,dt,zz,T)"
   ]
  },
  {
   "cell_type": "code",
   "execution_count": 75,
   "id": "154f5b92",
   "metadata": {},
   "outputs": [
    {
     "data": {
      "text/plain": [
       "Text(0.05, 0.5, 'Depth (m)')"
      ]
     },
     "execution_count": 75,
     "metadata": {},
     "output_type": "execute_result"
    },
    {
     "data": {
      "image/png": "[encoded data removed]",
      "text/plain": [
       "<Figure size 720x360 with 4 Axes>"
      ]
     },
     "metadata": {
      "needs_background": "light"
     },
     "output_type": "display_data"
    }
   ],
   "source": [
    "cmap=cmocean.cm.haline\n",
    "fig, axs=plt.subplots(2,1,figsize=(10,5))\n",
    "z = np.linspace(0,D,ngridz)\n",
    "x = np.linspace(0,L/1e3,ngridx)\n",
    "X,Z=np.meshgrid(x,z)\n",
    "\n",
    "c1=axs[0].contourf(X,-Z,C[-1,:,:].T,cmap=cmap)\n",
    "cb1=fig.colorbar(c1,ax=axs[0],pad=0.01)\n",
    "cb1.ax.get_yaxis().labelpad = 10\n",
    "cb1.set_label('Methane nM', rotation=270)\n",
    "c2=axs[1].contourf(X,-Z,S[-1,:,:].T,cmap=cmap)\n",
    "cb2=fig.colorbar(c2,ax=axs[1],pad=0.01)\n",
    "cb2.ax.get_yaxis().labelpad = 15\n",
    "cb2.set_label('Salinity (PSU)', rotation=270)\n",
    "fig.suptitle('Methane Concentration and Salinity',y=0.95,x=0.45)\n",
    "fig.supxlabel('Distance from glacier (km)',x=0.45)\n",
    "fig.supylabel('Depth (m)',x=0.05)\n",
    "#plt.savefig('fig.pdf')"
   ]
  },
  {
   "cell_type": "code",
   "execution_count": 43,
   "id": "565eb8c5",
   "metadata": {},
   "outputs": [
    {
     "data": {
      "text/plain": [
       "(5000, 50, 20)"
      ]
     },
     "execution_count": 43,
     "metadata": {},
     "output_type": "execute_result"
    }
   ],
   "source": [
    "C.shape"
   ]
  },
  {
   "cell_type": "code",
   "execution_count": 72,
   "id": "bb6dbc42",
   "metadata": {},
   "outputs": [
    {
     "name": "stdout",
     "output_type": "stream",
     "text": [
      "[[1. 0. 0. ... 0. 0. 0.]\n",
      " [0. 1. 0. ... 0. 0. 0.]\n",
      " [0. 0. 1. ... 0. 0. 0.]\n",
      " ...\n",
      " [0. 0. 0. ... 1. 0. 0.]\n",
      " [0. 0. 0. ... 0. 1. 0.]\n",
      " [0. 0. 0. ... 0. 0. 1.]]\n",
      "[[ 0. -2.  0. ...  0.  0.  0.]\n",
      " [ 0.  0. -2. ...  0.  0.  0.]\n",
      " [ 0.  0.  0. ...  0.  0.  0.]\n",
      " ...\n",
      " [ 0.  0.  0. ...  0. -2.  0.]\n",
      " [ 0.  0.  0. ...  0.  0. -2.]\n",
      " [ 0.  0.  0. ...  0.  0.  0.]]\n"
     ]
    }
   ],
   "source": [
    "# Create diagonal matrix:\n",
    "\n",
    "v = np.ones(C.shape[1])\n",
    "k = 0\n",
    "v1 = np.ones(C.shape[1])*(-2)\n",
    "k1 = 1\n",
    "v2 = np.ones(C.shape[1])*(-1)\n",
    "k2 = 2\n",
    "operator_x = np.diag(v,k)\n",
    "operator_x1 = np.diag(v1[0:-2],k1) # + np.diag(v2,k2)\n",
    "print(operator_x)\n",
    "print(operator_x1)"
   ]
  },
  {
   "cell_type": "code",
   "execution_count": 70,
   "id": "41082536",
   "metadata": {},
   "outputs": [
    {
     "data": {
      "text/plain": [
       "(50, 50)"
      ]
     },
     "execution_count": 70,
     "metadata": {},
     "output_type": "execute_result"
    }
   ],
   "source": [
    "operator_x.shape"
   ]
  },
  {
   "cell_type": "code",
   "execution_count": 71,
   "id": "e88efb21",
   "metadata": {},
   "outputs": [
    {
     "data": {
      "text/plain": [
       "(51, 51)"
      ]
     },
     "execution_count": 71,
     "metadata": {},
     "output_type": "execute_result"
    }
   ],
   "source": [
    "operator_x1.shape"
   ]
  },
  {
   "cell_type": "code",
   "execution_count": null,
   "id": "149a0cd7",
   "metadata": {},
   "outputs": [],
   "source": []
  }
 ],
 "metadata": {
  "kernelspec": {
   "display_name": "Python 3 (ipykernel)",
   "language": "python",
   "name": "python3"
  },
  "language_info": {
   "codemirror_mode": {
    "name": "ipython",
    "version": 3
   },
   "file_extension": ".py",
   "mimetype": "text/x-python",
   "name": "python",
   "nbconvert_exporter": "python",
   "pygments_lexer": "ipython3",
   "version": "3.9.5"
  }
 },
 "nbformat": 4,
 "nbformat_minor": 5
}
