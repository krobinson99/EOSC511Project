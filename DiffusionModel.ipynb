{
 "cells": [
  {
   "cell_type": "code",
   "execution_count": 55,
   "id": "00cd79e0",
   "metadata": {},
   "outputs": [],
   "source": [
    "%matplotlib inline\n",
    "import numpy as np\n",
    "import matplotlib.pyplot as plt\n",
    "import glacier\n",
    "import cmocean\n",
    "import importlib"
   ]
  },
  {
   "cell_type": "code",
   "execution_count": 56,
   "id": "444e83f6",
   "metadata": {},
   "outputs": [
    {
     "ename": "IndexError",
     "evalue": "tuple index out of range",
     "output_type": "error",
     "traceback": [
      "\u001b[1;31m---------------------------------------------------------------------------\u001b[0m",
      "\u001b[1;31mIndexError\u001b[0m                                Traceback (most recent call last)",
      "Input \u001b[1;32mIn [56]\u001b[0m, in \u001b[0;36m<module>\u001b[1;34m\u001b[0m\n\u001b[0;32m      7\u001b[0m T\u001b[38;5;241m=\u001b[39m \u001b[38;5;241m1e6\u001b[39m\n\u001b[0;32m      8\u001b[0m zz\u001b[38;5;241m=\u001b[39m\u001b[38;5;241m0\u001b[39m\n\u001b[1;32m----> 9\u001b[0m C,S\u001b[38;5;241m=\u001b[39m\u001b[43mglacier\u001b[49m\u001b[38;5;241;43m.\u001b[39;49m\u001b[43mglacier\u001b[49m\u001b[43m(\u001b[49m\u001b[43mngridx\u001b[49m\u001b[43m,\u001b[49m\u001b[43mngridz\u001b[49m\u001b[43m,\u001b[49m\u001b[43mdt\u001b[49m\u001b[43m,\u001b[49m\u001b[43mzz\u001b[49m\u001b[43m,\u001b[49m\u001b[43mT\u001b[49m\u001b[43m)\u001b[49m\n",
      "File \u001b[1;32m~\\repos\\EOSC511Project\\glacier.py:38\u001b[0m, in \u001b[0;36mglacier\u001b[1;34m(ngridx, ngridz, dt, zinput, T, motion)\u001b[0m\n\u001b[0;32m     36\u001b[0m \u001b[38;5;66;03m# main loop (Euler forward)\u001b[39;00m\n\u001b[0;32m     37\u001b[0m     \u001b[38;5;28;01mfor\u001b[39;00m nt \u001b[38;5;129;01min\u001b[39;00m \u001b[38;5;28mrange\u001b[39m(\u001b[38;5;241m1\u001b[39m,ntime):\n\u001b[1;32m---> 38\u001b[0m         C[nt,:,:], S[nt,:,:] \u001b[38;5;241m=\u001b[39m \u001b[43mstepper_steady\u001b[49m\u001b[43m(\u001b[49m\u001b[43mdx\u001b[49m\u001b[43m,\u001b[49m\u001b[43mdz\u001b[49m\u001b[43m,\u001b[49m\u001b[43mdt\u001b[49m\u001b[43m,\u001b[49m\u001b[43mC\u001b[49m\u001b[43m[\u001b[49m\u001b[43mnt\u001b[49m\u001b[38;5;241;43m-\u001b[39;49m\u001b[38;5;241;43m1\u001b[39;49m\u001b[43m,\u001b[49m\u001b[43m:\u001b[49m\u001b[43m,\u001b[49m\u001b[43m:\u001b[49m\u001b[43m]\u001b[49m\u001b[43m,\u001b[49m\u001b[43mS\u001b[49m\u001b[43m[\u001b[49m\u001b[43mnt\u001b[49m\u001b[38;5;241;43m-\u001b[39;49m\u001b[38;5;241;43m1\u001b[39;49m\u001b[43m,\u001b[49m\u001b[43m:\u001b[49m\u001b[43m,\u001b[49m\u001b[43m:\u001b[49m\u001b[43m]\u001b[49m\u001b[43m,\u001b[49m\u001b[43mKx\u001b[49m\u001b[43m,\u001b[49m\u001b[43mKz\u001b[49m\u001b[43m,\u001b[49m\u001b[43mRo\u001b[49m\u001b[43m,\u001b[49m\u001b[43mKd\u001b[49m\u001b[43m)\u001b[49m\n\u001b[0;32m     39\u001b[0m \u001b[38;5;66;03m# periodic boundary conditions\u001b[39;00m\n\u001b[0;32m     40\u001b[0m         C[nt,:,:], S[nt,:,:] \u001b[38;5;241m=\u001b[39m boundary_steady(C[nt,:,:], S[nt,:,:], C0, S0,zz)\n",
      "File \u001b[1;32m~\\repos\\EOSC511Project\\glacier.py:61\u001b[0m, in \u001b[0;36mstepper_steady\u001b[1;34m(dx, dz, dt, C, S, Kx, Kz, Ro, Kd)\u001b[0m\n\u001b[0;32m     59\u001b[0m Cn \u001b[38;5;241m=\u001b[39m np\u001b[38;5;241m.\u001b[39mzeros_like(S)\n\u001b[0;32m     60\u001b[0m Cn[:,\u001b[38;5;241m1\u001b[39m:\u001b[38;5;241m-\u001b[39m\u001b[38;5;241m1\u001b[39m] \u001b[38;5;241m=\u001b[39m C[:,\u001b[38;5;241m1\u001b[39m:\u001b[38;5;241m-\u001b[39m\u001b[38;5;241m1\u001b[39m] \u001b[38;5;241m+\u001b[39m dt\u001b[38;5;241m*\u001b[39m(diffx(C[:,\u001b[38;5;241m1\u001b[39m:\u001b[38;5;241m-\u001b[39m\u001b[38;5;241m1\u001b[39m])\u001b[38;5;241m*\u001b[39mKx\u001b[38;5;241m/\u001b[39m(dx\u001b[38;5;241m*\u001b[39m\u001b[38;5;241m*\u001b[39m\u001b[38;5;241m2\u001b[39m)\u001b[38;5;241m+\u001b[39mKz\u001b[38;5;241m*\u001b[39mdiffz(C[:,\u001b[38;5;241m1\u001b[39m:\u001b[38;5;241m-\u001b[39m\u001b[38;5;241m1\u001b[39m])\u001b[38;5;241m/\u001b[39m(dz\u001b[38;5;241m*\u001b[39m\u001b[38;5;241m*\u001b[39m\u001b[38;5;241m2\u001b[39m)\u001b[38;5;241m-\u001b[39mRo\u001b[38;5;241m*\u001b[39mC[:,\u001b[38;5;241m1\u001b[39m:\u001b[38;5;241m-\u001b[39m\u001b[38;5;241m1\u001b[39m])\n\u001b[1;32m---> 61\u001b[0m Cn[:,\u001b[38;5;241m0\u001b[39m] \u001b[38;5;241m=\u001b[39m C[:,\u001b[38;5;241m0\u001b[39m] \u001b[38;5;241m+\u001b[39m dt\u001b[38;5;241m*\u001b[39m(\u001b[43mdiffx\u001b[49m\u001b[43m(\u001b[49m\u001b[43mC\u001b[49m\u001b[43m[\u001b[49m\u001b[43m:\u001b[49m\u001b[43m,\u001b[49m\u001b[38;5;241;43m0\u001b[39;49m\u001b[43m]\u001b[49m\u001b[43m)\u001b[49m\u001b[38;5;241m*\u001b[39mKx\u001b[38;5;241m/\u001b[39m(dx\u001b[38;5;241m*\u001b[39m\u001b[38;5;241m*\u001b[39m\u001b[38;5;241m2\u001b[39m)\u001b[38;5;241m+\u001b[39mKz\u001b[38;5;241m*\u001b[39mdiffz(C[:,\u001b[38;5;241m0\u001b[39m])\u001b[38;5;241m/\u001b[39m(dz\u001b[38;5;241m*\u001b[39m\u001b[38;5;241m*\u001b[39m\u001b[38;5;241m2\u001b[39m)\u001b[38;5;241m-\u001b[39mRo\u001b[38;5;241m*\u001b[39mC[:,\u001b[38;5;241m0\u001b[39m]\u001b[38;5;241m-\u001b[39mKd\u001b[38;5;241m/\u001b[39m(dz\u001b[38;5;241m*\u001b[39m\u001b[38;5;241m0.000025\u001b[39m)\u001b[38;5;241m*\u001b[39m(C[:,\u001b[38;5;241m0\u001b[39m] \u001b[38;5;241m-\u001b[39m \u001b[38;5;241m3.7\u001b[39m))\n\u001b[0;32m     62\u001b[0m Sn \u001b[38;5;241m=\u001b[39m S \u001b[38;5;241m+\u001b[39m dt\u001b[38;5;241m*\u001b[39m(diffx(S)\u001b[38;5;241m*\u001b[39mKx\u001b[38;5;241m/\u001b[39m(dx\u001b[38;5;241m*\u001b[39m\u001b[38;5;241m*\u001b[39m\u001b[38;5;241m2\u001b[39m)\u001b[38;5;241m+\u001b[39mKz\u001b[38;5;241m*\u001b[39mdiffz(S)\u001b[38;5;241m/\u001b[39m(dz\u001b[38;5;241m*\u001b[39m\u001b[38;5;241m*\u001b[39m\u001b[38;5;241m2\u001b[39m))\n\u001b[0;32m     63\u001b[0m \u001b[38;5;28;01mreturn\u001b[39;00m Cn,Sn\n",
      "File \u001b[1;32m~\\repos\\EOSC511Project\\glacier.py:68\u001b[0m, in \u001b[0;36mdiffx\u001b[1;34m(C)\u001b[0m\n\u001b[0;32m     66\u001b[0m Cdx\u001b[38;5;241m=\u001b[39mnp\u001b[38;5;241m.\u001b[39mzeros_like(C)\n\u001b[0;32m     67\u001b[0m \u001b[38;5;28;01mfor\u001b[39;00m i \u001b[38;5;129;01min\u001b[39;00m \u001b[38;5;28mrange\u001b[39m(C\u001b[38;5;241m.\u001b[39mshape[\u001b[38;5;241m0\u001b[39m]\u001b[38;5;241m-\u001b[39m\u001b[38;5;241m1\u001b[39m):\n\u001b[1;32m---> 68\u001b[0m     \u001b[38;5;28;01mfor\u001b[39;00m j \u001b[38;5;129;01min\u001b[39;00m \u001b[38;5;28mrange\u001b[39m(\u001b[43mC\u001b[49m\u001b[38;5;241;43m.\u001b[39;49m\u001b[43mshape\u001b[49m\u001b[43m[\u001b[49m\u001b[38;5;241;43m1\u001b[39;49m\u001b[43m]\u001b[49m\u001b[38;5;241m-\u001b[39m\u001b[38;5;241m1\u001b[39m):\n\u001b[0;32m     69\u001b[0m         Cdx[i,j]\u001b[38;5;241m=\u001b[39mC[i\u001b[38;5;241m+\u001b[39m\u001b[38;5;241m1\u001b[39m,j]\u001b[38;5;241m-\u001b[39m\u001b[38;5;241m2\u001b[39m\u001b[38;5;241m*\u001b[39mC[i,j]\u001b[38;5;241m+\u001b[39mC[i\u001b[38;5;241m-\u001b[39m\u001b[38;5;241m1\u001b[39m,j]\n\u001b[0;32m     70\u001b[0m \u001b[38;5;28;01mreturn\u001b[39;00m Cdx\n",
      "\u001b[1;31mIndexError\u001b[0m: tuple index out of range"
     ]
    }
   ],
   "source": [
    "importlib.reload(glacier)\n",
    "ngridx=50\n",
    "ngridz=20\n",
    "D=200 # m\n",
    "L=2e4 # m\n",
    "dt= 2e2 # \n",
    "T= 1e6\n",
    "zz=0\n",
    "C,S=glacier.glacier(ngridx,ngridz,dt,zz,T)"
   ]
  },
  {
   "cell_type": "code",
   "execution_count": 39,
   "id": "154f5b92",
   "metadata": {},
   "outputs": [
    {
     "data": {
      "text/plain": [
       "Text(0.05, 0.5, 'Depth (m)')"
      ]
     },
     "execution_count": 39,
     "metadata": {},
     "output_type": "execute_result"
    },
    {
     "data": {
      "image/png": "[encoded data removed]",
      "text/plain": [
       "<Figure size 720x360 with 4 Axes>"
      ]
     },
     "metadata": {
      "needs_background": "light"
     },
     "output_type": "display_data"
    }
   ],
   "source": [
    "cmap=cmocean.cm.haline\n",
    "fig, axs=plt.subplots(2,1,figsize=(10,5))\n",
    "z = np.linspace(0,D,ngridz)\n",
    "x = np.linspace(0,L/1e3,ngridx)\n",
    "X,Z=np.meshgrid(x,z)\n",
    "\n",
    "c1=axs[0].contourf(X,-Z,C[-1,:,:].T,cmap=cmap)\n",
    "cb1=fig.colorbar(c1,ax=axs[0],pad=0.01)\n",
    "cb1.ax.get_yaxis().labelpad = 10\n",
    "cb1.set_label('Methane nM', rotation=270)\n",
    "c2=axs[1].contourf(X,-Z,S[-1,:,:].T,cmap=cmap)\n",
    "cb2=fig.colorbar(c2,ax=axs[1],pad=0.01)\n",
    "cb2.ax.get_yaxis().labelpad = 15\n",
    "cb2.set_label('Salinity (PSU)', rotation=270)\n",
    "fig.suptitle('Methane Concentration and Salinity',y=0.95,x=0.45)\n",
    "fig.supxlabel('Distance from glacier (km)',x=0.45)\n",
    "fig.supylabel('Depth (m)',x=0.05)\n",
    "#plt.savefig('fig.pdf')"
   ]
  },
  {
   "cell_type": "code",
   "execution_count": 43,
   "id": "565eb8c5",
   "metadata": {},
   "outputs": [
    {
     "data": {
      "text/plain": [
       "(5000, 50, 20)"
      ]
     },
     "execution_count": 43,
     "metadata": {},
     "output_type": "execute_result"
    }
   ],
   "source": [
    "C.shape"
   ]
  },
  {
   "cell_type": "code",
   "execution_count": 72,
   "id": "bb6dbc42",
   "metadata": {},
   "outputs": [
    {
     "name": "stdout",
     "output_type": "stream",
     "text": [
      "[[1. 0. 0. ... 0. 0. 0.]\n",
      " [0. 1. 0. ... 0. 0. 0.]\n",
      " [0. 0. 1. ... 0. 0. 0.]\n",
      " ...\n",
      " [0. 0. 0. ... 1. 0. 0.]\n",
      " [0. 0. 0. ... 0. 1. 0.]\n",
      " [0. 0. 0. ... 0. 0. 1.]]\n",
      "[[ 0. -2.  0. ...  0.  0.  0.]\n",
      " [ 0.  0. -2. ...  0.  0.  0.]\n",
      " [ 0.  0.  0. ...  0.  0.  0.]\n",
      " ...\n",
      " [ 0.  0.  0. ...  0. -2.  0.]\n",
      " [ 0.  0.  0. ...  0.  0. -2.]\n",
      " [ 0.  0.  0. ...  0.  0.  0.]]\n"
     ]
    }
   ],
   "source": [
    "# Create diagonal matrix:\n",
    "\n",
    "v = np.ones(C.shape[1])\n",
    "k = 0\n",
    "v1 = np.ones(C.shape[1])*(-2)\n",
    "k1 = 1\n",
    "v2 = np.ones(C.shape[1])*(-1)\n",
    "k2 = 2\n",
    "operator_x = np.diag(v,k)\n",
    "operator_x1 = np.diag(v1[0:-2],k1) # + np.diag(v2,k2)\n",
    "print(operator_x)\n",
    "print(operator_x1)"
   ]
  },
  {
   "cell_type": "code",
   "execution_count": 70,
   "id": "41082536",
   "metadata": {},
   "outputs": [
    {
     "data": {
      "text/plain": [
       "(50, 50)"
      ]
     },
     "execution_count": 70,
     "metadata": {},
     "output_type": "execute_result"
    }
   ],
   "source": [
    "operator_x.shape"
   ]
  },
  {
   "cell_type": "code",
   "execution_count": 71,
   "id": "be7ddfea",
   "metadata": {},
   "outputs": [
    {
     "data": {
      "text/plain": [
       "(51, 51)"
      ]
     },
     "execution_count": 71,
     "metadata": {},
     "output_type": "execute_result"
    }
   ],
   "source": [
    "operator_x1.shape"
   ]
  },
  {
   "cell_type": "code",
   "execution_count": null,
   "id": "99f9c6b7",
   "metadata": {},
   "outputs": [],
   "source": []
  }
 ],
 "metadata": {
  "kernelspec": {
   "display_name": "Python 3 (ipykernel)",
   "language": "python",
   "name": "python3"
  },
  "language_info": {
   "codemirror_mode": {
    "name": "ipython",
    "version": 3
   },
   "file_extension": ".py",
   "mimetype": "text/x-python",
   "name": "python",
   "nbconvert_exporter": "python",
   "pygments_lexer": "ipython3",
   "version": "3.9.5"
  }
 },
 "nbformat": 4,
 "nbformat_minor": 5
}
